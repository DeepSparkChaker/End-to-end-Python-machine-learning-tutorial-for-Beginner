{
 "cells": [
  {
   "cell_type": "markdown",
   "metadata": {},
   "source": [
    "# End-to-end Python machine learning tutorial for Beginner:\n",
    "In this end-to-end Python machine learning tutorial, you’ll learn how to use Scikit-Learn to build and tune a supervised learning model!\n",
    "\n",
    "We’ll be training and tuning a random forest for wine quality (as judged by wine snobs experts) based on traits like acidity, residual sugar, and alcohol concentration.\n",
    "\n",
    "Before we start, we should state that this guide is meant for beginners who are interested in applied machine learning.\n",
    "\n",
    "Our goal is introduce you to one of the most flexible and useful libraries for machine learning in Python. We’ll skip the theory and math in this tutorial, but we’ll still recommend great resources for learning those.\n",
    "# Why Scikit-Learn for machine learning?\n",
    "\n",
    "Scikit-Learn, also known as sklearn, is Python’s premier general-purpose machine learning library. While you’ll find other packages that do better at certain tasks, Scikit-Learn’s versatility makes it the best starting place for most ML problems.\n",
    "\n",
    "It’s also a fantastic library for beginners because it offers a high-level interface for many tasks (e.g. preprocessing data, cross-validation, etc.). This allows you to better practice the entire machine learning workflow and understand the big picture.\n",
    "# Here are the steps for building your first random forest model using Scikit-Learn:\n",
    "\n",
    "    Set up your environment.\n",
    "    Import libraries and modules.\n",
    "    Load red wine data.\n",
    "    Split data into training and test sets.\n",
    "    Declare data preprocessing steps.\n",
    "    Declare hyperparameters to tune.\n",
    "    Tune model using cross-validation pipeline.\n",
    "    Refit on the entire training set.\n",
    "    Evaluate model pipeline on test data.\n",
    "    Save model for further use.\n"
   ]
  },
  {
   "cell_type": "code",
   "execution_count": 2,
   "metadata": {
    "scrolled": true
   },
   "outputs": [
    {
     "name": "stderr",
     "output_type": "stream",
     "text": [
      "C:\\Users\\rzouga\\Anaconda3\\lib\\site-packages\\sklearn\\ensemble\\weight_boosting.py:29: DeprecationWarning: numpy.core.umath_tests is an internal NumPy module and should not be imported. It will be removed in a future NumPy release.\n",
      "  from numpy.core.umath_tests import inner1d\n"
     ]
    },
    {
     "name": "stdout",
     "output_type": "stream",
     "text": [
      "   fixed acidity  volatile acidity  citric acid  residual sugar  chlorides  \\\n",
      "0            7.4              0.70         0.00             1.9      0.076   \n",
      "1            7.8              0.88         0.00             2.6      0.098   \n",
      "2            7.8              0.76         0.04             2.3      0.092   \n",
      "3           11.2              0.28         0.56             1.9      0.075   \n",
      "4            7.4              0.70         0.00             1.9      0.076   \n",
      "\n",
      "   free sulfur dioxide  total sulfur dioxide  density    pH  sulphates  \\\n",
      "0                 11.0                  34.0   0.9978  3.51       0.56   \n",
      "1                 25.0                  67.0   0.9968  3.20       0.68   \n",
      "2                 15.0                  54.0   0.9970  3.26       0.65   \n",
      "3                 17.0                  60.0   0.9980  3.16       0.58   \n",
      "4                 11.0                  34.0   0.9978  3.51       0.56   \n",
      "\n",
      "   alcohol  quality  \n",
      "0      9.4        5  \n",
      "1      9.8        5  \n",
      "2      9.8        5  \n",
      "3      9.8        6  \n",
      "4      9.4        5  \n"
     ]
    }
   ],
   "source": [
    "# 2. Import libraries and modules\n",
    "import numpy as np\n",
    "import pandas as pd\n",
    " \n",
    "from sklearn.model_selection import train_test_split\n",
    "from sklearn import preprocessing\n",
    "from sklearn.ensemble import RandomForestRegressor\n",
    "from sklearn.pipeline import make_pipeline\n",
    "from sklearn.model_selection import GridSearchCV\n",
    "from sklearn.metrics import mean_squared_error, r2_score\n",
    "from sklearn.externals import joblib \n",
    " \n",
    "# 3. Load red wine data.\n",
    "dataset_url = 'http://mlr.cs.umass.edu/ml/machine-learning-databases/wine-quality/winequality-red.csv'\n",
    "data = pd.read_csv(dataset_url, sep=';')\n",
    " \n",
    "#Now let's take a look at the first 5 rows of data:\n",
    "\n",
    "print(data.head())"
   ]
  },
  {
   "cell_type": "code",
   "execution_count": 3,
   "metadata": {},
   "outputs": [
    {
     "data": {
      "text/plain": [
       "(1599, 12)"
      ]
     },
     "execution_count": 3,
     "metadata": {},
     "output_type": "execute_result"
    }
   ],
   "source": [
    " # Now, let's take a look at the data\n",
    "data.shape"
   ]
  },
  {
   "cell_type": "markdown",
   "metadata": {},
   "source": [
    "We have 1,599 samples and 12 features, including our target feature.\n",
    "We can easily print some summary statistics."
   ]
  },
  {
   "cell_type": "code",
   "execution_count": 4,
   "metadata": {},
   "outputs": [
    {
     "data": {
      "text/html": [
       "<div>\n",
       "<style scoped>\n",
       "    .dataframe tbody tr th:only-of-type {\n",
       "        vertical-align: middle;\n",
       "    }\n",
       "\n",
       "    .dataframe tbody tr th {\n",
       "        vertical-align: top;\n",
       "    }\n",
       "\n",
       "    .dataframe thead th {\n",
       "        text-align: right;\n",
       "    }\n",
       "</style>\n",
       "<table border=\"1\" class=\"dataframe\">\n",
       "  <thead>\n",
       "    <tr style=\"text-align: right;\">\n",
       "      <th></th>\n",
       "      <th>fixed acidity</th>\n",
       "      <th>volatile acidity</th>\n",
       "      <th>citric acid</th>\n",
       "      <th>residual sugar</th>\n",
       "      <th>chlorides</th>\n",
       "      <th>free sulfur dioxide</th>\n",
       "      <th>total sulfur dioxide</th>\n",
       "      <th>density</th>\n",
       "      <th>pH</th>\n",
       "      <th>sulphates</th>\n",
       "      <th>alcohol</th>\n",
       "      <th>quality</th>\n",
       "    </tr>\n",
       "  </thead>\n",
       "  <tbody>\n",
       "    <tr>\n",
       "      <th>count</th>\n",
       "      <td>1599.000000</td>\n",
       "      <td>1599.000000</td>\n",
       "      <td>1599.000000</td>\n",
       "      <td>1599.000000</td>\n",
       "      <td>1599.000000</td>\n",
       "      <td>1599.000000</td>\n",
       "      <td>1599.000000</td>\n",
       "      <td>1599.000000</td>\n",
       "      <td>1599.000000</td>\n",
       "      <td>1599.000000</td>\n",
       "      <td>1599.000000</td>\n",
       "      <td>1599.000000</td>\n",
       "    </tr>\n",
       "    <tr>\n",
       "      <th>mean</th>\n",
       "      <td>8.319637</td>\n",
       "      <td>0.527821</td>\n",
       "      <td>0.270976</td>\n",
       "      <td>2.538806</td>\n",
       "      <td>0.087467</td>\n",
       "      <td>15.874922</td>\n",
       "      <td>46.467792</td>\n",
       "      <td>0.996747</td>\n",
       "      <td>3.311113</td>\n",
       "      <td>0.658149</td>\n",
       "      <td>10.422983</td>\n",
       "      <td>5.636023</td>\n",
       "    </tr>\n",
       "    <tr>\n",
       "      <th>std</th>\n",
       "      <td>1.741096</td>\n",
       "      <td>0.179060</td>\n",
       "      <td>0.194801</td>\n",
       "      <td>1.409928</td>\n",
       "      <td>0.047065</td>\n",
       "      <td>10.460157</td>\n",
       "      <td>32.895324</td>\n",
       "      <td>0.001887</td>\n",
       "      <td>0.154386</td>\n",
       "      <td>0.169507</td>\n",
       "      <td>1.065668</td>\n",
       "      <td>0.807569</td>\n",
       "    </tr>\n",
       "    <tr>\n",
       "      <th>min</th>\n",
       "      <td>4.600000</td>\n",
       "      <td>0.120000</td>\n",
       "      <td>0.000000</td>\n",
       "      <td>0.900000</td>\n",
       "      <td>0.012000</td>\n",
       "      <td>1.000000</td>\n",
       "      <td>6.000000</td>\n",
       "      <td>0.990070</td>\n",
       "      <td>2.740000</td>\n",
       "      <td>0.330000</td>\n",
       "      <td>8.400000</td>\n",
       "      <td>3.000000</td>\n",
       "    </tr>\n",
       "    <tr>\n",
       "      <th>25%</th>\n",
       "      <td>7.100000</td>\n",
       "      <td>0.390000</td>\n",
       "      <td>0.090000</td>\n",
       "      <td>1.900000</td>\n",
       "      <td>0.070000</td>\n",
       "      <td>7.000000</td>\n",
       "      <td>22.000000</td>\n",
       "      <td>0.995600</td>\n",
       "      <td>3.210000</td>\n",
       "      <td>0.550000</td>\n",
       "      <td>9.500000</td>\n",
       "      <td>5.000000</td>\n",
       "    </tr>\n",
       "    <tr>\n",
       "      <th>50%</th>\n",
       "      <td>7.900000</td>\n",
       "      <td>0.520000</td>\n",
       "      <td>0.260000</td>\n",
       "      <td>2.200000</td>\n",
       "      <td>0.079000</td>\n",
       "      <td>14.000000</td>\n",
       "      <td>38.000000</td>\n",
       "      <td>0.996750</td>\n",
       "      <td>3.310000</td>\n",
       "      <td>0.620000</td>\n",
       "      <td>10.200000</td>\n",
       "      <td>6.000000</td>\n",
       "    </tr>\n",
       "    <tr>\n",
       "      <th>75%</th>\n",
       "      <td>9.200000</td>\n",
       "      <td>0.640000</td>\n",
       "      <td>0.420000</td>\n",
       "      <td>2.600000</td>\n",
       "      <td>0.090000</td>\n",
       "      <td>21.000000</td>\n",
       "      <td>62.000000</td>\n",
       "      <td>0.997835</td>\n",
       "      <td>3.400000</td>\n",
       "      <td>0.730000</td>\n",
       "      <td>11.100000</td>\n",
       "      <td>6.000000</td>\n",
       "    </tr>\n",
       "    <tr>\n",
       "      <th>max</th>\n",
       "      <td>15.900000</td>\n",
       "      <td>1.580000</td>\n",
       "      <td>1.000000</td>\n",
       "      <td>15.500000</td>\n",
       "      <td>0.611000</td>\n",
       "      <td>72.000000</td>\n",
       "      <td>289.000000</td>\n",
       "      <td>1.003690</td>\n",
       "      <td>4.010000</td>\n",
       "      <td>2.000000</td>\n",
       "      <td>14.900000</td>\n",
       "      <td>8.000000</td>\n",
       "    </tr>\n",
       "  </tbody>\n",
       "</table>\n",
       "</div>"
      ],
      "text/plain": [
       "       fixed acidity  volatile acidity  citric acid  residual sugar  \\\n",
       "count    1599.000000       1599.000000  1599.000000     1599.000000   \n",
       "mean        8.319637          0.527821     0.270976        2.538806   \n",
       "std         1.741096          0.179060     0.194801        1.409928   \n",
       "min         4.600000          0.120000     0.000000        0.900000   \n",
       "25%         7.100000          0.390000     0.090000        1.900000   \n",
       "50%         7.900000          0.520000     0.260000        2.200000   \n",
       "75%         9.200000          0.640000     0.420000        2.600000   \n",
       "max        15.900000          1.580000     1.000000       15.500000   \n",
       "\n",
       "         chlorides  free sulfur dioxide  total sulfur dioxide      density  \\\n",
       "count  1599.000000          1599.000000           1599.000000  1599.000000   \n",
       "mean      0.087467            15.874922             46.467792     0.996747   \n",
       "std       0.047065            10.460157             32.895324     0.001887   \n",
       "min       0.012000             1.000000              6.000000     0.990070   \n",
       "25%       0.070000             7.000000             22.000000     0.995600   \n",
       "50%       0.079000            14.000000             38.000000     0.996750   \n",
       "75%       0.090000            21.000000             62.000000     0.997835   \n",
       "max       0.611000            72.000000            289.000000     1.003690   \n",
       "\n",
       "                pH    sulphates      alcohol      quality  \n",
       "count  1599.000000  1599.000000  1599.000000  1599.000000  \n",
       "mean      3.311113     0.658149    10.422983     5.636023  \n",
       "std       0.154386     0.169507     1.065668     0.807569  \n",
       "min       2.740000     0.330000     8.400000     3.000000  \n",
       "25%       3.210000     0.550000     9.500000     5.000000  \n",
       "50%       3.310000     0.620000    10.200000     6.000000  \n",
       "75%       3.400000     0.730000    11.100000     6.000000  \n",
       "max       4.010000     2.000000    14.900000     8.000000  "
      ]
     },
     "execution_count": 4,
     "metadata": {},
     "output_type": "execute_result"
    }
   ],
   "source": [
    "data.describe()"
   ]
  },
  {
   "cell_type": "code",
   "execution_count": 5,
   "metadata": {},
   "outputs": [
    {
     "data": {
      "text/plain": [
       "Index(['fixed acidity', 'volatile acidity', 'citric acid', 'residual sugar',\n",
       "       'chlorides', 'free sulfur dioxide', 'total sulfur dioxide', 'density',\n",
       "       'pH', 'sulphates', 'alcohol', 'quality'],\n",
       "      dtype='object')"
      ]
     },
     "execution_count": 5,
     "metadata": {},
     "output_type": "execute_result"
    }
   ],
   "source": [
    "data.columns "
   ]
  },
  {
   "cell_type": "code",
   "execution_count": 11,
   "metadata": {},
   "outputs": [],
   "source": [
    "# 4. Split data into training and test sets\n",
    "y = data.quality\n",
    "X = data.drop('quality', axis=1)\n",
    "X_train, X_test, y_train, y_test = train_test_split(X, y, \n",
    "                                                    test_size=0.2, \n",
    "                                                    random_state=123, \n",
    "                                                    stratify=y)\n"
   ]
  },
  {
   "cell_type": "markdown",
   "metadata": {},
   "source": [
    "As you can see, we'll set aside 20% of the data as a test set for evaluating our model. We also set an arbitrary \"random state\" (a.k.a. seed) so that we can reproduce our results.\n",
    "\n",
    "Finally, it's good practice to stratify your sample by the target variable. This will ensure your training set looks similar to your test set, making your evaluation metrics more reliable"
   ]
  },
  {
   "cell_type": "markdown",
   "metadata": {},
   "source": [
    "# Standardization \n",
    "It's the process of subtracting the means from each feature and then dividing by the feature standard deviations.\n",
    "\n",
    "Standardization is a common requirement for machine learning tasks. Many algorithms assume that all features are centered around zero and have approximately the same variance.\n",
    "\n",
    "First, here's some code that we won't use...\n",
    "\n",
    "Scikit-Learn makes data preprocessing a breeze. For example, it's pretty easy to simply scale a dataset:"
   ]
  },
  {
   "cell_type": "code",
   "execution_count": 12,
   "metadata": {
    "scrolled": true
   },
   "outputs": [
    {
     "data": {
      "text/plain": [
       "array([[ 0.51358886,  2.19680282, -0.164433  , ...,  1.08415147,\n",
       "        -0.69866131, -0.58608178],\n",
       "       [-1.73698885, -0.31792985, -0.82867679, ...,  1.46964764,\n",
       "         1.2491516 ,  2.97009781],\n",
       "       [-0.35201795,  0.46443143, -0.47100705, ..., -0.13658641,\n",
       "        -0.35492962, -0.20843439],\n",
       "       ...,\n",
       "       [-0.98679628,  1.10708533, -0.93086814, ...,  0.24890976,\n",
       "        -0.98510439,  0.35803669],\n",
       "       [-0.69826067,  0.46443143, -1.28853787, ...,  1.08415147,\n",
       "        -0.35492962, -0.68049363],\n",
       "       [ 3.1104093 , -0.62528606,  2.08377675, ..., -1.61432173,\n",
       "         0.79084268, -0.39725809]])"
      ]
     },
     "execution_count": 12,
     "metadata": {},
     "output_type": "execute_result"
    }
   ],
   "source": [
    "X_train_scaled = preprocessing.scale(X_train)\n",
    "X_train_scaled"
   ]
  },
  {
   "cell_type": "markdown",
   "metadata": {},
   "source": [
    "You can confirm that the scaled dataset is indeed centered at zero, with unit variance:"
   ]
  },
  {
   "cell_type": "code",
   "execution_count": 14,
   "metadata": {},
   "outputs": [
    {
     "data": {
      "text/plain": [
       "array([ 1.16664562e-16, -3.05550043e-17, -8.47206937e-17, -2.22218213e-17,\n",
       "        2.22218213e-17, -6.38877362e-17, -4.16659149e-18, -2.54439854e-15,\n",
       "       -8.70817622e-16, -4.08325966e-16, -1.17220107e-15])"
      ]
     },
     "execution_count": 14,
     "metadata": {},
     "output_type": "execute_result"
    }
   ],
   "source": [
    "X_train_scaled.mean(axis=0)"
   ]
  },
  {
   "cell_type": "code",
   "execution_count": 15,
   "metadata": {},
   "outputs": [
    {
     "data": {
      "text/plain": [
       "array([1., 1., 1., 1., 1., 1., 1., 1., 1., 1., 1.])"
      ]
     },
     "execution_count": 15,
     "metadata": {},
     "output_type": "execute_result"
    }
   ],
   "source": [
    "X_train_scaled.std(axis=0)"
   ]
  },
  {
   "cell_type": "markdown",
   "metadata": {},
   "source": [
    "Great, but why did we say that we won't use this code?\n",
    "\n",
    "The reason is that we won't be able to perform the exact same transformation on the test set.\n",
    "\n",
    "Sure, we can still scale the test set separately, but we won't be using the same means and standard deviations as we used to transform the training set.\n",
    "\n",
    "In other words, that means it wouldn't be a fair representation of how the model pipeline, include the preprocessing steps, would perform on brand new data.\n",
    "Now, here's the preprocessing code we will use...\n",
    "\n",
    "So instead of directly invoking the scale function, we'll be using a feature in Scikit-Learn called the Transformer API. The Transformer API allows you to \"fit\" a preprocessing step using the training data the same way you'd fit a model...\n",
    "\n",
    "...and then use the same transformation on future data sets!\n",
    "Here's what that process looks like:\n",
    "\n",
    "    Fit the transformer on the training set (saving the means and standard deviations)\n",
    "    Apply the transformer to the training set (scaling the training data)\n",
    "    Apply the transformer to the test set (using the same means and standard deviations)\n",
    "\n",
    "This makes your final estimate of model performance more realistic, and it allows to insert your preprocessing steps into a cross-validation pipeline (more on this in Step 7)\n",
    "\n",
    "Here's how you do it:"
   ]
  },
  {
   "cell_type": "code",
   "execution_count": 16,
   "metadata": {},
   "outputs": [],
   "source": [
    "scaler = preprocessing.StandardScaler().fit(X_train)\n"
   ]
  },
  {
   "cell_type": "markdown",
   "metadata": {},
   "source": [
    "Now, the scaler object has the saved means and standard deviations for each feature in the training set.\n",
    "\n",
    "Let's confirm that worked:"
   ]
  },
  {
   "cell_type": "code",
   "execution_count": 19,
   "metadata": {
    "scrolled": true
   },
   "outputs": [
    {
     "name": "stdout",
     "output_type": "stream",
     "text": [
      "[ 1.16664562e-16 -3.05550043e-17 -8.47206937e-17 -2.22218213e-17\n",
      "  2.22218213e-17 -6.38877362e-17 -4.16659149e-18 -2.54439854e-15\n",
      " -8.70817622e-16 -4.08325966e-16 -1.17220107e-15]\n",
      "[1. 1. 1. 1. 1. 1. 1. 1. 1. 1. 1.]\n"
     ]
    }
   ],
   "source": [
    "X_train_scaled = scaler.transform(X_train)\n",
    " \n",
    "print( X_train_scaled.mean(axis=0))\n",
    "# [ 0.  0.  0.  0.  0.  0.  0.  0.  0.  0.  0.]\n",
    " \n",
    "print (X_train_scaled.std(axis=0))"
   ]
  },
  {
   "cell_type": "markdown",
   "metadata": {},
   "source": [
    "Note how we're taking the scaler object and using it to transform the training set. Later, we can transform the test set using the exact same means and standard deviations used to transform the training set"
   ]
  },
  {
   "cell_type": "code",
   "execution_count": 20,
   "metadata": {
    "scrolled": true
   },
   "outputs": [
    {
     "name": "stdout",
     "output_type": "stream",
     "text": [
      "[ 0.02776704  0.02592492 -0.03078587 -0.03137977 -0.00471876 -0.04413827\n",
      " -0.02414174 -0.00293273 -0.00467444 -0.10894663  0.01043391]\n",
      "[1.02160495 1.00135689 0.97456598 0.91099054 0.86716698 0.94193125\n",
      " 1.03673213 1.03145119 0.95734849 0.83829505 1.0286218 ]\n"
     ]
    }
   ],
   "source": [
    "X_test_scaled = scaler.transform(X_test)\n",
    " \n",
    "print (X_test_scaled.mean(axis=0))\n",
    "# [ 0.02776704  0.02592492 -0.03078587 -0.03137977 -0.00471876 -0.04413827\n",
    "#  -0.02414174 -0.00293273 -0.00467444 -0.10894663  0.01043391]\n",
    " \n",
    "print (X_test_scaled.std(axis=0))"
   ]
  },
  {
   "cell_type": "markdown",
   "metadata": {},
   "source": [
    "Notice how the scaled features in the test set are not perfectly centered at zero with unit variance! This is exactly what we'd expect, as we're transforming the test set using the means from the training set, not from the test set itself.\n",
    "\n",
    "In practice, when we set up the cross-validation pipeline, we won't even need to manually fit the Transformer API. Instead, we'll simply declare the class object, like so:"
   ]
  },
  {
   "cell_type": "code",
   "execution_count": null,
   "metadata": {},
   "outputs": [],
   "source": [
    "# 5. Declare data preprocessing steps\n",
    "pipeline = make_pipeline(preprocessing.StandardScaler(), \n",
    "                         RandomForestRegressor(n_estimators=100))\n",
    " \n"
   ]
  },
  {
   "cell_type": "markdown",
   "metadata": {},
   "source": [
    "This is exactly what it looks like: a modeling pipeline that first transforms the data using StandardScaler() and then fits a model using a random forest regressor.\n",
    "#  Declare hyperparameters to tune.\n",
    "\n",
    "Now it's time to consider the hyperparameters that we'll want to tune for our model.\n",
    "\n",
    "WTF are hyperparameters?\n",
    "\n",
    "There are two types of parameters we need to worry about: model parameters and hyperparameters. Models parameters can be learned directly from the data (i.e. regression coefficients), while hyperparameters cannot.\n",
    "\n",
    "Hyperparameters express \"higher-level\" structural information about the model, and they are typically set before training the model.\n",
    "\n",
    "Example: random forest hyperparameters.\n",
    "\n",
    "As an example, let's take our random forest for regression:\n",
    "\n",
    "Within each decision tree, the computer can empirically decide where to create branches based on either mean-squared-error (MSE) or mean-absolute-error (MAE). Therefore, the actual branch locations are model parameters.\n",
    "\n",
    "However, the algorithm does not know which of the two criteria, MSE or MAE, that it should use. The algorithm also cannot decide how many trees to include in the forest. These are examples of hyperparameters that the user must set.\n",
    "\n",
    "We can list the tunable hyperparameters like so:  "
   ]
  },
  {
   "cell_type": "code",
   "execution_count": 22,
   "metadata": {},
   "outputs": [
    {
     "data": {
      "text/plain": [
       "{'memory': None,\n",
       " 'steps': [('standardscaler',\n",
       "   StandardScaler(copy=True, with_mean=True, with_std=True)),\n",
       "  ('randomforestregressor',\n",
       "   RandomForestRegressor(bootstrap=True, criterion='mse', max_depth=None,\n",
       "              max_features='auto', max_leaf_nodes=None,\n",
       "              min_impurity_decrease=0.0, min_impurity_split=None,\n",
       "              min_samples_leaf=1, min_samples_split=2,\n",
       "              min_weight_fraction_leaf=0.0, n_estimators=100, n_jobs=1,\n",
       "              oob_score=False, random_state=None, verbose=0, warm_start=False))],\n",
       " 'standardscaler': StandardScaler(copy=True, with_mean=True, with_std=True),\n",
       " 'randomforestregressor': RandomForestRegressor(bootstrap=True, criterion='mse', max_depth=None,\n",
       "            max_features='auto', max_leaf_nodes=None,\n",
       "            min_impurity_decrease=0.0, min_impurity_split=None,\n",
       "            min_samples_leaf=1, min_samples_split=2,\n",
       "            min_weight_fraction_leaf=0.0, n_estimators=100, n_jobs=1,\n",
       "            oob_score=False, random_state=None, verbose=0, warm_start=False),\n",
       " 'standardscaler__copy': True,\n",
       " 'standardscaler__with_mean': True,\n",
       " 'standardscaler__with_std': True,\n",
       " 'randomforestregressor__bootstrap': True,\n",
       " 'randomforestregressor__criterion': 'mse',\n",
       " 'randomforestregressor__max_depth': None,\n",
       " 'randomforestregressor__max_features': 'auto',\n",
       " 'randomforestregressor__max_leaf_nodes': None,\n",
       " 'randomforestregressor__min_impurity_decrease': 0.0,\n",
       " 'randomforestregressor__min_impurity_split': None,\n",
       " 'randomforestregressor__min_samples_leaf': 1,\n",
       " 'randomforestregressor__min_samples_split': 2,\n",
       " 'randomforestregressor__min_weight_fraction_leaf': 0.0,\n",
       " 'randomforestregressor__n_estimators': 100,\n",
       " 'randomforestregressor__n_jobs': 1,\n",
       " 'randomforestregressor__oob_score': False,\n",
       " 'randomforestregressor__random_state': None,\n",
       " 'randomforestregressor__verbose': 0,\n",
       " 'randomforestregressor__warm_start': False}"
      ]
     },
     "execution_count": 22,
     "metadata": {},
     "output_type": "execute_result"
    }
   ],
   "source": [
    "pipeline.get_params()"
   ]
  },
  {
   "cell_type": "markdown",
   "metadata": {},
   "source": [
    "You can also find a list of all the parameters on the RandomForestRegressor documentation page. Just note that when it's tuned through a pipeline, you'll need to prepend  randomforestregressor__ before the parameter name, like in the code above.\n",
    "\n",
    "Now, let's declare the hyperparameters we want to tune through cross-validation."
   ]
  },
  {
   "cell_type": "code",
   "execution_count": 25,
   "metadata": {},
   "outputs": [],
   "source": [
    "hyperparameters = { 'randomforestregressor__max_features' : ['auto', 'sqrt', 'log2'],\n",
    "                  'randomforestregressor__max_depth': [None, 5, 3, 1]}\n"
   ]
  },
  {
   "cell_type": "markdown",
   "metadata": {},
   "source": [
    "As you can see, the format should be a Python dictionary (data structure for key-value pairs) where keys are the hyperparameter names and values are lists of settings to try. The options for parameter values can be found on the documentation page.\n",
    "\n",
    "# Tune model using a cross-validation pipeline.\n",
    "\n",
    "Now we're almost ready to dive into fitting our models. But first, we need to spend some time talking about cross-validation.\n",
    "\n",
    "This is one of the most important skills in all of machine learning because it helps you maximize model performance while reducing the chance of overfitting.\n",
    "\n",
    "#  Cross-validation (CV)?\n",
    "\n",
    "Cross-validation is a process for reliably estimating the performance of a method for building a model by training and evaluating your model multiple times using the same method.\n",
    "\n",
    "Practically, that \"method\" is simply a set of hyperparameters in this context.\n",
    "\n",
    "These are the steps for CV:\n",
    "\n",
    "    Split your data into k equal parts, or \"folds\" (typically k=10).\n",
    "    Train your model on k-1 folds (e.g. the first 9 folds).\n",
    "    Evaluate it on the remaining \"hold-out\" fold (e.g. the 10th fold).\n",
    "    Perform steps (2) and (3) k times, each time holding out a different fold.\n",
    "    Aggregate the performance across all k folds. This is your performance metric.\n",
    "https://elitedatascience.com/wp-content/uploads/2016/12/K-fold_cross_validation_EN.jpg"
   ]
  },
  {
   "cell_type": "markdown",
   "metadata": {},
   "source": [
    "Let's say you want to train a random forest regressor. One of the hyperparameters you must tune is the maximum depth allowed for each decision tree in your forest.\n",
    "\n",
    "How can you decide?\n",
    "\n",
    "That's where cross-validation comes in. Using only your training set, you can use CV to evaluate different hyperparameters and estimate their effectiveness.\n",
    "\n",
    "This allows you to keep your test set \"untainted\" and save it for a true hold-out evaluation when you're finally ready to select a model.\n",
    "\n",
    "For example, you can use CV to tune a random forest model, a linear regression model, and a k-nearest neighbors model, using only the training set. Then, you still have the untainted test set to make your final selection between the model families\n",
    "# Cross-validation \"pipeline?\"\n",
    "\n",
    "The best practice when performing CV is to include your data preprocessing steps inside the cross-validation loop. This prevents accidentally tainting your training folds with influential data from your test fold.\n",
    "\n",
    "Here's how the CV pipeline looks after including preprocessing steps:\n",
    "\n",
    "    1-Split your data into k equal parts, or \"folds\" (typically k=10).\n",
    "    2-Preprocess k-1 training folds.\n",
    "    3-Train your model on the same k-1 folds.\n",
    "    4-Preprocess the hold-out fold using the same transformations from step (2).\n",
    "    5-Evaluate your model on the same hold-out fold.\n",
    "    6-Perform steps (2) - (5) k times, each time holding out a different fold.\n",
    "    7-Aggregate the performance across all k folds. This is your performance metric.\n",
    "\n",
    "Fortunately, Scikit-Learn makes it stupidly simple to set this up:"
   ]
  },
  {
   "cell_type": "code",
   "execution_count": 26,
   "metadata": {},
   "outputs": [
    {
     "data": {
      "text/plain": [
       "GridSearchCV(cv=10, error_score='raise',\n",
       "       estimator=Pipeline(memory=None,\n",
       "     steps=[('standardscaler', StandardScaler(copy=True, with_mean=True, with_std=True)), ('randomforestregressor', RandomForestRegressor(bootstrap=True, criterion='mse', max_depth=None,\n",
       "           max_features='auto', max_leaf_nodes=None,\n",
       "           min_impurity_decr...mators=100, n_jobs=1,\n",
       "           oob_score=False, random_state=None, verbose=0, warm_start=False))]),\n",
       "       fit_params=None, iid=True, n_jobs=1,\n",
       "       param_grid={'randomforestregressor__max_features': ['auto', 'sqrt', 'log2'], 'randomforestregressor__max_depth': [None, 5, 3, 1]},\n",
       "       pre_dispatch='2*n_jobs', refit=True, return_train_score='warn',\n",
       "       scoring=None, verbose=0)"
      ]
     },
     "execution_count": 26,
     "metadata": {},
     "output_type": "execute_result"
    }
   ],
   "source": [
    "clf = GridSearchCV(pipeline, hyperparameters, cv=10)\n",
    " \n",
    "# Fit and tune model\n",
    "clf.fit(X_train, y_train)"
   ]
  },
  {
   "cell_type": "markdown",
   "metadata": {},
   "source": [
    "Yes, it's really that easy. GridSearchCV essentially performs cross-validation across the entire \"grid\" (all possible permutations) of hyperparameters.\n",
    "\n",
    "It takes in your model (in this case, we're using a model pipeline), the hyperparameters you want to tune, and the number of folds to create.\n",
    "\n",
    "Obviously, there's a lot going on under the hood. We've included the pseudo-code above, and we'll cover writing cross-validation from scratch in a separate guide.\n",
    "\n",
    "Now, you can see the best set of parameters found using CV:"
   ]
  },
  {
   "cell_type": "code",
   "execution_count": 27,
   "metadata": {
    "scrolled": true
   },
   "outputs": [
    {
     "data": {
      "text/plain": [
       "{'randomforestregressor__max_depth': None,\n",
       " 'randomforestregressor__max_features': 'log2'}"
      ]
     },
     "execution_count": 27,
     "metadata": {},
     "output_type": "execute_result"
    }
   ],
   "source": [
    "clf.best_params_"
   ]
  },
  {
   "cell_type": "markdown",
   "metadata": {},
   "source": [
    "Interestingly, it looks like the default parameters win out for this data set.\n",
    "\n",
    "*Tip: It turns out that in practice, random forests don't actually require a lot of tuning. They tend to work pretty well out-of-the-box with a reasonable number of trees. Even so, these same steps can be used when building any type of supervised learning model.\n",
    "# Refit on the entire training set.\n",
    "\n",
    "After you've tuned your hyperparameters appropriately using cross-validation, you can generally get a small performance improvement by refitting the model on the entire training set.\n",
    "\n",
    "Conveniently, GridSearchCV from sklearn will automatically refit the model with the best set of hyperparameters using the entire training set.\n",
    "\n",
    "This functionality is ON by default, but you can confirm it:\n"
   ]
  },
  {
   "cell_type": "code",
   "execution_count": 28,
   "metadata": {},
   "outputs": [
    {
     "data": {
      "text/plain": [
       "True"
      ]
     },
     "execution_count": 28,
     "metadata": {},
     "output_type": "execute_result"
    }
   ],
   "source": [
    "clf.refit"
   ]
  },
  {
   "cell_type": "markdown",
   "metadata": {},
   "source": [
    "Now, you can simply use the  clf object as your model when applying it to other sets of data. That's what we'll be doing in the next step.\n",
    "# Evaluate model pipeline on test data.\n",
    "\n",
    "Alright, we're in the home stretch!\n",
    "\n",
    "This step is really straightforward once you understand that the  clf object you used to tune the hyperparameters can also be used directly like a model object.\n",
    "\n",
    "Here's how to predict a new set of data:"
   ]
  },
  {
   "cell_type": "code",
   "execution_count": 30,
   "metadata": {},
   "outputs": [],
   "source": [
    "y_pred = clf.predict(X_test)"
   ]
  },
  {
   "cell_type": "markdown",
   "metadata": {},
   "source": [
    "**Now we can use the metrics we imported earlier to evaluate our model performance**"
   ]
  },
  {
   "cell_type": "code",
   "execution_count": 31,
   "metadata": {},
   "outputs": [
    {
     "name": "stdout",
     "output_type": "stream",
     "text": [
      "0.48278225074157055\n",
      "0.33374687499999994\n"
     ]
    }
   ],
   "source": [
    "print (r2_score(y_test, y_pred))\n",
    "# 0.45044082571584243\n",
    " \n",
    "print (mean_squared_error(y_test, y_pred))"
   ]
  },
  {
   "cell_type": "markdown",
   "metadata": {},
   "source": [
    "Great, so now the question is... is this performance good enough?\n",
    "\n",
    "Well, the rule of thumb is that your very first model probably won't be the best possible model. However, we recommend a combination of three strategies to decide if you're satisfied with your model performance.\n",
    "\n",
    "    Start with the goal of the model. If the model is tied to a business problem, have you successfully solved the problem?\n",
    "    Look in academic literature to get a sense of the current performance benchmarks for specific types of data.\n",
    "    Try to find low-hanging fruit in terms of ways to improve your model.\n",
    "\n",
    "There are various ways to improve a model. We'll have more guides that go into detail about how to improve model performance, but here are a few quick things to try:\n",
    "\n",
    "    Try other regression model families (e.g. regularized regression, boosted trees, etc.).\n",
    "    Collect more data if it's cheap to do so.\n",
    "    Engineer smarter features after spending more time on exploratory analysis.\n",
    "    Speak to a domain expert to get more context (...this is a good excuse to go wine tasting!).\n",
    "\n",
    "As a final note, when you try other families of models, we recommend using the same training and test set as you used to fit the random forest model. That's the best way to get a true apples-to-apples comparison between your models.\n",
    "\n",
    "# Save model for future use.\n",
    "\n",
    "Great job completing this tutorial!\n",
    "\n",
    "You've done the hard part, and deserve another glass of wine. Maybe this time you can use your shiny new predictive model to select the bottle.\n",
    "\n",
    "But before you go, let's save your hard work so you can use the model in the future. It's really easy to do so:"
   ]
  },
  {
   "cell_type": "code",
   "execution_count": 32,
   "metadata": {},
   "outputs": [
    {
     "data": {
      "text/plain": [
       "['rf_regressor.pkl']"
      ]
     },
     "execution_count": 32,
     "metadata": {},
     "output_type": "execute_result"
    }
   ],
   "source": [
    "joblib.dump(clf, 'rf_regressor.pkl')"
   ]
  },
  {
   "cell_type": "markdown",
   "metadata": {},
   "source": [
    "And that's it. When you want to load the model again, simply use this function:"
   ]
  },
  {
   "cell_type": "code",
   "execution_count": 33,
   "metadata": {
    "scrolled": true
   },
   "outputs": [
    {
     "data": {
      "text/plain": [
       "array([6.61, 5.76, 4.94, 5.53, 6.29, 5.49, 4.92, 4.73, 5.02, 6.01, 5.31,\n",
       "       5.71, 5.79, 5.06, 5.74, 5.62, 6.59, 5.76, 5.7 , 6.96, 5.49, 5.71,\n",
       "       5.05, 6.11, 5.83, 5.03, 5.46, 5.12, 5.92, 5.88, 5.92, 6.54, 5.98,\n",
       "       5.03, 4.96, 5.97, 5.06, 6.01, 5.08, 5.7 , 4.94, 6.04, 6.67, 5.11,\n",
       "       6.2 , 5.35, 5.49, 5.57, 5.23, 6.49, 6.02, 5.28, 5.82, 5.21, 5.64,\n",
       "       5.78, 5.34, 5.37, 5.05, 5.34, 5.3 , 5.08, 5.1 , 5.78, 5.94, 5.29,\n",
       "       6.3 , 5.06, 5.15, 6.69, 5.73, 5.91, 5.07, 4.98, 5.23, 5.96, 5.31,\n",
       "       5.08, 5.21, 5.33, 6.26, 5.52, 6.15, 6.41, 5.13, 5.88, 6.29, 6.23,\n",
       "       5.83, 5.5 , 5.99, 5.36, 6.34, 5.73, 5.76, 5.85, 6.83, 6.86, 5.57,\n",
       "       6.8 , 5.03, 5.53, 5.11, 6.48, 5.04, 4.65, 5.75, 5.04, 5.61, 5.92,\n",
       "       6.01, 5.54, 6.05, 5.45, 5.22, 5.34, 6.01, 5.04, 4.88, 5.92, 5.79,\n",
       "       5.08, 5.81, 6.07, 5.33, 5.27, 5.32, 6.01, 5.41, 5.24, 5.5 , 6.1 ,\n",
       "       5.15, 5.38, 5.09, 6.36, 5.03, 5.15, 6.79, 5.41, 5.24, 5.06, 5.53,\n",
       "       6.07, 5.27, 5.32, 5.17, 6.54, 5.96, 5.12, 5.65, 5.15, 4.96, 5.02,\n",
       "       5.27, 5.96, 5.33, 5.71, 5.77, 5.2 , 5.62, 5.25, 5.3 , 5.87, 5.07,\n",
       "       5.93, 5.12, 5.45, 5.32, 5.11, 5.92, 5.12, 5.65, 5.06, 5.56, 5.39,\n",
       "       4.98, 5.28, 5.59, 5.05, 6.04, 5.48, 5.  , 5.12, 5.21, 6.14, 5.13,\n",
       "       5.57, 5.19, 4.96, 5.5 , 6.57, 5.88, 5.94, 5.37, 5.13, 5.48, 5.09,\n",
       "       6.4 , 4.73, 6.33, 5.05, 5.18, 5.23, 6.61, 6.01, 5.22, 5.26, 5.34,\n",
       "       5.77, 5.94, 5.94, 5.96, 6.44, 5.8 , 5.96, 5.34, 5.28, 5.67, 5.24,\n",
       "       5.19, 6.1 , 6.19, 5.47, 5.92, 5.82, 5.46, 6.13, 5.36, 5.8 , 5.42,\n",
       "       5.47, 6.19, 5.75, 4.8 , 4.55, 6.58, 6.52, 6.35, 5.3 , 5.32, 5.57,\n",
       "       5.52, 6.21, 5.91, 5.17, 5.17, 5.3 , 5.18, 6.32, 5.25, 5.04, 5.3 ,\n",
       "       5.15, 5.88, 6.46, 5.78, 5.37, 5.53, 6.4 , 5.44, 6.05, 5.23, 5.22,\n",
       "       5.69, 5.83, 5.76, 5.49, 5.39, 5.05, 5.74, 5.43, 6.48, 6.15, 5.52,\n",
       "       5.03, 5.93, 6.43, 6.03, 5.48, 5.75, 5.37, 5.39, 5.93, 6.87, 5.26,\n",
       "       6.5 , 5.78, 5.35, 5.42, 5.64, 5.22, 5.23, 6.37, 5.74, 5.99, 6.05,\n",
       "       5.91, 5.32, 5.65, 5.58, 6.15, 5.53, 6.85, 6.68, 5.9 , 6.31, 5.07,\n",
       "       5.34, 5.97, 5.27, 5.3 , 6.12, 6.57, 6.52, 5.26, 5.51, 5.76, 6.04,\n",
       "       5.51])"
      ]
     },
     "execution_count": 33,
     "metadata": {},
     "output_type": "execute_result"
    }
   ],
   "source": [
    "clf2 = joblib.load('rf_regressor.pkl')\n",
    " \n",
    "# Predict data set using loaded model\n",
    "clf2.predict(X_test)"
   ]
  },
  {
   "cell_type": "markdown",
   "metadata": {},
   "source": [
    "# Congratulations, you've reached the end of this tutorial!\n",
    "\n",
    "We've just completed a whirlwind tour of Scikit-Learn's core functionality, but we've only really scratched the surface. Hopefully you've gained some guideposts to further explore all that sklearn has to offer"
   ]
  }
 ],
 "metadata": {
  "kernelspec": {
   "display_name": "Python 3",
   "language": "python",
   "name": "python3"
  },
  "language_info": {
   "codemirror_mode": {
    "name": "ipython",
    "version": 3
   },
   "file_extension": ".py",
   "mimetype": "text/x-python",
   "name": "python",
   "nbconvert_exporter": "python",
   "pygments_lexer": "ipython3",
   "version": "3.7.3"
  }
 },
 "nbformat": 4,
 "nbformat_minor": 2
}
